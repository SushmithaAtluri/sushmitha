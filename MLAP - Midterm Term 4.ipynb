{
 "cells": [
  {
   "cell_type": "markdown",
   "metadata": {},
   "source": [
    "# Lakshmi Sushmitha Atluri - 19A1HP115"
   ]
  },
  {
   "cell_type": "code",
   "execution_count": 1,
   "metadata": {},
   "outputs": [],
   "source": [
    "#Importing packages\n",
    "\n",
    "import pandas as pd\n",
    "import numpy as ny"
   ]
  },
  {
   "cell_type": "code",
   "execution_count": 2,
   "metadata": {},
   "outputs": [],
   "source": [
    "autos = pd.read_csv(r\"Advertising.csv\")"
   ]
  },
  {
   "cell_type": "code",
   "execution_count": 3,
   "metadata": {},
   "outputs": [
    {
     "data": {
      "text/html": [
       "<div>\n",
       "<style scoped>\n",
       "    .dataframe tbody tr th:only-of-type {\n",
       "        vertical-align: middle;\n",
       "    }\n",
       "\n",
       "    .dataframe tbody tr th {\n",
       "        vertical-align: top;\n",
       "    }\n",
       "\n",
       "    .dataframe thead th {\n",
       "        text-align: right;\n",
       "    }\n",
       "</style>\n",
       "<table border=\"1\" class=\"dataframe\">\n",
       "  <thead>\n",
       "    <tr style=\"text-align: right;\">\n",
       "      <th></th>\n",
       "      <th>Sno</th>\n",
       "      <th>TV</th>\n",
       "      <th>Radio</th>\n",
       "      <th>Newspaper</th>\n",
       "      <th>Day</th>\n",
       "      <th>Sales</th>\n",
       "    </tr>\n",
       "  </thead>\n",
       "  <tbody>\n",
       "    <tr>\n",
       "      <th>0</th>\n",
       "      <td>1</td>\n",
       "      <td>230.1</td>\n",
       "      <td>37.8</td>\n",
       "      <td>69.2</td>\n",
       "      <td>Weekend</td>\n",
       "      <td>10.1</td>\n",
       "    </tr>\n",
       "    <tr>\n",
       "      <th>1</th>\n",
       "      <td>2</td>\n",
       "      <td>44.5</td>\n",
       "      <td>39.3</td>\n",
       "      <td>45.1</td>\n",
       "      <td>Weekdays</td>\n",
       "      <td>8.0</td>\n",
       "    </tr>\n",
       "    <tr>\n",
       "      <th>2</th>\n",
       "      <td>3</td>\n",
       "      <td>17.2</td>\n",
       "      <td>45.9</td>\n",
       "      <td>69.3</td>\n",
       "      <td>Weekdays</td>\n",
       "      <td>10.3</td>\n",
       "    </tr>\n",
       "    <tr>\n",
       "      <th>3</th>\n",
       "      <td>4</td>\n",
       "      <td>151.5</td>\n",
       "      <td>41.3</td>\n",
       "      <td>58.5</td>\n",
       "      <td>Weekdays</td>\n",
       "      <td>25.4</td>\n",
       "    </tr>\n",
       "    <tr>\n",
       "      <th>4</th>\n",
       "      <td>5</td>\n",
       "      <td>180.8</td>\n",
       "      <td>10.8</td>\n",
       "      <td>58.4</td>\n",
       "      <td>Weekdays</td>\n",
       "      <td>13.6</td>\n",
       "    </tr>\n",
       "    <tr>\n",
       "      <th>...</th>\n",
       "      <td>...</td>\n",
       "      <td>...</td>\n",
       "      <td>...</td>\n",
       "      <td>...</td>\n",
       "      <td>...</td>\n",
       "      <td>...</td>\n",
       "    </tr>\n",
       "    <tr>\n",
       "      <th>195</th>\n",
       "      <td>196</td>\n",
       "      <td>38.2</td>\n",
       "      <td>3.7</td>\n",
       "      <td>13.8</td>\n",
       "      <td>Weekdays</td>\n",
       "      <td>8.4</td>\n",
       "    </tr>\n",
       "    <tr>\n",
       "      <th>196</th>\n",
       "      <td>197</td>\n",
       "      <td>94.2</td>\n",
       "      <td>4.9</td>\n",
       "      <td>8.1</td>\n",
       "      <td>Weekdays</td>\n",
       "      <td>10.8</td>\n",
       "    </tr>\n",
       "    <tr>\n",
       "      <th>197</th>\n",
       "      <td>198</td>\n",
       "      <td>177.0</td>\n",
       "      <td>9.3</td>\n",
       "      <td>6.4</td>\n",
       "      <td>Weekdays</td>\n",
       "      <td>15.2</td>\n",
       "    </tr>\n",
       "    <tr>\n",
       "      <th>198</th>\n",
       "      <td>199</td>\n",
       "      <td>283.6</td>\n",
       "      <td>42.0</td>\n",
       "      <td>66.2</td>\n",
       "      <td>Holiday</td>\n",
       "      <td>4.8</td>\n",
       "    </tr>\n",
       "    <tr>\n",
       "      <th>199</th>\n",
       "      <td>200</td>\n",
       "      <td>232.1</td>\n",
       "      <td>8.6</td>\n",
       "      <td>8.7</td>\n",
       "      <td>Weekend</td>\n",
       "      <td>14.7</td>\n",
       "    </tr>\n",
       "  </tbody>\n",
       "</table>\n",
       "<p>200 rows × 6 columns</p>\n",
       "</div>"
      ],
      "text/plain": [
       "     Sno     TV  Radio  Newspaper       Day  Sales\n",
       "0      1  230.1   37.8       69.2   Weekend   10.1\n",
       "1      2   44.5   39.3       45.1  Weekdays    8.0\n",
       "2      3   17.2   45.9       69.3  Weekdays   10.3\n",
       "3      4  151.5   41.3       58.5  Weekdays   25.4\n",
       "4      5  180.8   10.8       58.4  Weekdays   13.6\n",
       "..   ...    ...    ...        ...       ...    ...\n",
       "195  196   38.2    3.7       13.8  Weekdays    8.4\n",
       "196  197   94.2    4.9        8.1  Weekdays   10.8\n",
       "197  198  177.0    9.3        6.4  Weekdays   15.2\n",
       "198  199  283.6   42.0       66.2   Holiday    4.8\n",
       "199  200  232.1    8.6        8.7   Weekend   14.7\n",
       "\n",
       "[200 rows x 6 columns]"
      ]
     },
     "execution_count": 3,
     "metadata": {},
     "output_type": "execute_result"
    }
   ],
   "source": [
    "autos"
   ]
  },
  {
   "cell_type": "code",
   "execution_count": 4,
   "metadata": {},
   "outputs": [
    {
     "name": "stdout",
     "output_type": "stream",
     "text": [
      "<class 'pandas.core.frame.DataFrame'>\n",
      "RangeIndex: 200 entries, 0 to 199\n",
      "Data columns (total 6 columns):\n",
      " #   Column     Non-Null Count  Dtype  \n",
      "---  ------     --------------  -----  \n",
      " 0   Sno        200 non-null    int64  \n",
      " 1   TV         199 non-null    float64\n",
      " 2   Radio      199 non-null    float64\n",
      " 3   Newspaper  199 non-null    float64\n",
      " 4   Day        197 non-null    object \n",
      " 5   Sales      200 non-null    float64\n",
      "dtypes: float64(4), int64(1), object(1)\n",
      "memory usage: 9.5+ KB\n"
     ]
    }
   ],
   "source": [
    "# Information about the datatypes in the dataset\n",
    "\n",
    "autos.info()\n"
   ]
  },
  {
   "cell_type": "code",
   "execution_count": 7,
   "metadata": {},
   "outputs": [
    {
     "data": {
      "text/plain": [
       "Sno          0\n",
       "TV           0\n",
       "Radio        0\n",
       "Newspaper    0\n",
       "Day          0\n",
       "Sales        0\n",
       "dtype: int64"
      ]
     },
     "execution_count": 7,
     "metadata": {},
     "output_type": "execute_result"
    }
   ],
   "source": [
    "#Checking null values\n",
    "\n",
    "autos.isnull().sum()"
   ]
  },
  {
   "cell_type": "code",
   "execution_count": 8,
   "metadata": {},
   "outputs": [],
   "source": [
    "#Drop missing values in the dataset\n",
    "#dropping null values i.e Tv =1, Radio =1,Newspaper = 1,Day = 3\n",
    "autos=autos.dropna()"
   ]
  },
  {
   "cell_type": "code",
   "execution_count": 9,
   "metadata": {},
   "outputs": [
    {
     "data": {
      "text/plain": [
       "Sno          0\n",
       "TV           0\n",
       "Radio        0\n",
       "Newspaper    0\n",
       "Day          0\n",
       "Sales        0\n",
       "dtype: int64"
      ]
     },
     "execution_count": 9,
     "metadata": {},
     "output_type": "execute_result"
    }
   ],
   "source": [
    "autos.isnull().sum()"
   ]
  },
  {
   "cell_type": "code",
   "execution_count": 10,
   "metadata": {},
   "outputs": [
    {
     "name": "stdout",
     "output_type": "stream",
     "text": [
      "<class 'pandas.core.frame.DataFrame'>\n",
      "Int64Index: 197 entries, 0 to 199\n",
      "Data columns (total 6 columns):\n",
      " #   Column     Non-Null Count  Dtype  \n",
      "---  ------     --------------  -----  \n",
      " 0   Sno        197 non-null    int64  \n",
      " 1   TV         197 non-null    float64\n",
      " 2   Radio      197 non-null    float64\n",
      " 3   Newspaper  197 non-null    float64\n",
      " 4   Day        197 non-null    object \n",
      " 5   Sales      197 non-null    float64\n",
      "dtypes: float64(4), int64(1), object(1)\n",
      "memory usage: 10.8+ KB\n"
     ]
    }
   ],
   "source": [
    "autos.info()"
   ]
  },
  {
   "cell_type": "code",
   "execution_count": 12,
   "metadata": {},
   "outputs": [
    {
     "data": {
      "text/plain": [
       "array(['Weekend', 'Weekdays', 'Holiday'], dtype=object)"
      ]
     },
     "execution_count": 12,
     "metadata": {},
     "output_type": "execute_result"
    }
   ],
   "source": [
    "#Identify the column containing categorical variables\n",
    "\n",
    "autos['Day'].unique()"
   ]
  },
  {
   "cell_type": "code",
   "execution_count": 13,
   "metadata": {},
   "outputs": [
    {
     "data": {
      "text/html": [
       "<div>\n",
       "<style scoped>\n",
       "    .dataframe tbody tr th:only-of-type {\n",
       "        vertical-align: middle;\n",
       "    }\n",
       "\n",
       "    .dataframe tbody tr th {\n",
       "        vertical-align: top;\n",
       "    }\n",
       "\n",
       "    .dataframe thead th {\n",
       "        text-align: right;\n",
       "    }\n",
       "</style>\n",
       "<table border=\"1\" class=\"dataframe\">\n",
       "  <thead>\n",
       "    <tr style=\"text-align: right;\">\n",
       "      <th></th>\n",
       "      <th>Holiday</th>\n",
       "      <th>Weekdays</th>\n",
       "      <th>Weekend</th>\n",
       "    </tr>\n",
       "  </thead>\n",
       "  <tbody>\n",
       "    <tr>\n",
       "      <th>0</th>\n",
       "      <td>0</td>\n",
       "      <td>0</td>\n",
       "      <td>1</td>\n",
       "    </tr>\n",
       "    <tr>\n",
       "      <th>1</th>\n",
       "      <td>0</td>\n",
       "      <td>1</td>\n",
       "      <td>0</td>\n",
       "    </tr>\n",
       "    <tr>\n",
       "      <th>2</th>\n",
       "      <td>0</td>\n",
       "      <td>1</td>\n",
       "      <td>0</td>\n",
       "    </tr>\n",
       "    <tr>\n",
       "      <th>3</th>\n",
       "      <td>0</td>\n",
       "      <td>1</td>\n",
       "      <td>0</td>\n",
       "    </tr>\n",
       "    <tr>\n",
       "      <th>4</th>\n",
       "      <td>0</td>\n",
       "      <td>1</td>\n",
       "      <td>0</td>\n",
       "    </tr>\n",
       "  </tbody>\n",
       "</table>\n",
       "</div>"
      ],
      "text/plain": [
       "   Holiday  Weekdays  Weekend\n",
       "0        0         0        1\n",
       "1        0         1        0\n",
       "2        0         1        0\n",
       "3        0         1        0\n",
       "4        0         1        0"
      ]
     },
     "execution_count": 13,
     "metadata": {},
     "output_type": "execute_result"
    }
   ],
   "source": [
    "#Assign dummy variables to the data \n",
    "\n",
    "pd.get_dummies(autos['Day'])[0:5]"
   ]
  },
  {
   "cell_type": "code",
   "execution_count": 14,
   "metadata": {},
   "outputs": [],
   "source": [
    "categorical_features = ['Day']"
   ]
  },
  {
   "cell_type": "code",
   "execution_count": 15,
   "metadata": {},
   "outputs": [
    {
     "name": "stdout",
     "output_type": "stream",
     "text": [
      "Index(['Sno', 'TV', 'Radio', 'Newspaper', 'Day', 'Sales'], dtype='object')\n"
     ]
    }
   ],
   "source": [
    "X_features = autos.columns\n",
    "print(X_features)"
   ]
  },
  {
   "cell_type": "code",
   "execution_count": 16,
   "metadata": {},
   "outputs": [],
   "source": [
    "X_features = X_features.drop('Sales')"
   ]
  },
  {
   "cell_type": "code",
   "execution_count": 17,
   "metadata": {},
   "outputs": [
    {
     "name": "stdout",
     "output_type": "stream",
     "text": [
      "Index(['Sno', 'TV', 'Radio', 'Newspaper', 'Day'], dtype='object')\n"
     ]
    }
   ],
   "source": [
    "print(X_features)"
   ]
  },
  {
   "cell_type": "code",
   "execution_count": 18,
   "metadata": {},
   "outputs": [],
   "source": [
    "autos_encoded = pd.get_dummies(autos[X_features], columns = categorical_features)"
   ]
  },
  {
   "cell_type": "code",
   "execution_count": 19,
   "metadata": {},
   "outputs": [
    {
     "name": "stdout",
     "output_type": "stream",
     "text": [
      "Index(['Sno', 'TV', 'Radio', 'Newspaper', 'Day_Holiday', 'Day_Weekdays',\n",
      "       'Day_Weekend'],\n",
      "      dtype='object')\n"
     ]
    }
   ],
   "source": [
    "print(autos_encoded.columns)"
   ]
  },
  {
   "cell_type": "code",
   "execution_count": 20,
   "metadata": {},
   "outputs": [
    {
     "data": {
      "text/html": [
       "<div>\n",
       "<style scoped>\n",
       "    .dataframe tbody tr th:only-of-type {\n",
       "        vertical-align: middle;\n",
       "    }\n",
       "\n",
       "    .dataframe tbody tr th {\n",
       "        vertical-align: top;\n",
       "    }\n",
       "\n",
       "    .dataframe thead th {\n",
       "        text-align: right;\n",
       "    }\n",
       "</style>\n",
       "<table border=\"1\" class=\"dataframe\">\n",
       "  <thead>\n",
       "    <tr style=\"text-align: right;\">\n",
       "      <th></th>\n",
       "      <th>Sno</th>\n",
       "      <th>TV</th>\n",
       "      <th>Radio</th>\n",
       "      <th>Newspaper</th>\n",
       "      <th>Sales</th>\n",
       "    </tr>\n",
       "  </thead>\n",
       "  <tbody>\n",
       "    <tr>\n",
       "      <th>count</th>\n",
       "      <td>197.000000</td>\n",
       "      <td>197.000000</td>\n",
       "      <td>197.000000</td>\n",
       "      <td>197.000000</td>\n",
       "      <td>197.000000</td>\n",
       "    </tr>\n",
       "    <tr>\n",
       "      <th>mean</th>\n",
       "      <td>101.375635</td>\n",
       "      <td>146.242132</td>\n",
       "      <td>23.152284</td>\n",
       "      <td>30.375635</td>\n",
       "      <td>14.102030</td>\n",
       "    </tr>\n",
       "    <tr>\n",
       "      <th>std</th>\n",
       "      <td>57.818691</td>\n",
       "      <td>85.439138</td>\n",
       "      <td>14.922793</td>\n",
       "      <td>20.972370</td>\n",
       "      <td>5.192302</td>\n",
       "    </tr>\n",
       "    <tr>\n",
       "      <th>min</th>\n",
       "      <td>1.000000</td>\n",
       "      <td>0.700000</td>\n",
       "      <td>0.000000</td>\n",
       "      <td>0.300000</td>\n",
       "      <td>1.600000</td>\n",
       "    </tr>\n",
       "    <tr>\n",
       "      <th>25%</th>\n",
       "      <td>52.000000</td>\n",
       "      <td>74.700000</td>\n",
       "      <td>9.900000</td>\n",
       "      <td>12.900000</td>\n",
       "      <td>10.400000</td>\n",
       "    </tr>\n",
       "    <tr>\n",
       "      <th>50%</th>\n",
       "      <td>102.000000</td>\n",
       "      <td>149.700000</td>\n",
       "      <td>22.300000</td>\n",
       "      <td>25.900000</td>\n",
       "      <td>12.900000</td>\n",
       "    </tr>\n",
       "    <tr>\n",
       "      <th>75%</th>\n",
       "      <td>151.000000</td>\n",
       "      <td>218.400000</td>\n",
       "      <td>36.500000</td>\n",
       "      <td>45.100000</td>\n",
       "      <td>17.400000</td>\n",
       "    </tr>\n",
       "    <tr>\n",
       "      <th>max</th>\n",
       "      <td>200.000000</td>\n",
       "      <td>296.400000</td>\n",
       "      <td>49.600000</td>\n",
       "      <td>100.900000</td>\n",
       "      <td>27.000000</td>\n",
       "    </tr>\n",
       "  </tbody>\n",
       "</table>\n",
       "</div>"
      ],
      "text/plain": [
       "              Sno          TV       Radio   Newspaper       Sales\n",
       "count  197.000000  197.000000  197.000000  197.000000  197.000000\n",
       "mean   101.375635  146.242132   23.152284   30.375635   14.102030\n",
       "std     57.818691   85.439138   14.922793   20.972370    5.192302\n",
       "min      1.000000    0.700000    0.000000    0.300000    1.600000\n",
       "25%     52.000000   74.700000    9.900000   12.900000   10.400000\n",
       "50%    102.000000  149.700000   22.300000   25.900000   12.900000\n",
       "75%    151.000000  218.400000   36.500000   45.100000   17.400000\n",
       "max    200.000000  296.400000   49.600000  100.900000   27.000000"
      ]
     },
     "execution_count": 20,
     "metadata": {},
     "output_type": "execute_result"
    }
   ],
   "source": [
    "#Descriptive summary of all numerical variables\n",
    "\n",
    "autos.describe()"
   ]
  },
  {
   "cell_type": "code",
   "execution_count": 21,
   "metadata": {},
   "outputs": [],
   "source": [
    "#Importing visualization packages\n",
    "\n",
    "import seaborn as sn\n",
    "import matplotlib.pyplot as plt"
   ]
  },
  {
   "cell_type": "code",
   "execution_count": 22,
   "metadata": {},
   "outputs": [
    {
     "data": {
      "text/plain": [
       "<matplotlib.axes._subplots.AxesSubplot at 0x2a6b1811488>"
      ]
     },
     "execution_count": 22,
     "metadata": {},
     "output_type": "execute_result"
    },
    {
     "data": {
      "image/png": "[encoded data removed]",
      "text/plain": [
       "<Figure size 432x288 with 1 Axes>"
      ]
     },
     "metadata": {
      "needs_background": "light"
     },
     "output_type": "display_data"
    }
   ],
   "source": [
    "#Scatterplot for TV and Sales\n",
    "\n",
    "sn.scatterplot(x = 'Radio', y = 'Sales', data = autos) "
   ]
  },
  {
   "cell_type": "code",
   "execution_count": 23,
   "metadata": {},
   "outputs": [
    {
     "data": {
      "image/png": "[encoded data removed]",
      "text/plain": [
       "<Figure size 432x288 with 1 Axes>"
      ]
     },
     "metadata": {
      "needs_background": "light"
     },
     "output_type": "display_data"
    }
   ],
   "source": [
    "#Line Plot for Radio and Sales\n",
    "\n",
    "sn.lineplot(x = \"Newspaper\", y = \"Sales\", data = autos)\n",
    "plt.show()  "
   ]
  },
  {
   "cell_type": "code",
   "execution_count": 27,
   "metadata": {},
   "outputs": [],
   "source": [
    "#Adding constant term to matrix of features, splitting dataset into training and test dataset\n",
    "import statsmodels.api as sm\n",
    "from sklearn.model_selection import train_test_split\n",
    "X = sm.add_constant( autos_encoded )\n",
    "Y = autos['Sales']\n",
    "train_X, test_X, train_y, test_y = train_test_split( X ,Y,train_size = 0.8,random_state = 58 )"
   ]
  },
  {
   "cell_type": "code",
   "execution_count": 28,
   "metadata": {},
   "outputs": [
    {
     "data": {
      "text/html": [
       "<table class=\"simpletable\">\n",
       "<tr>\n",
       "        <td>Model:</td>               <td>OLS</td>         <td>Adj. R-squared:</td>    <td>-0.031</td>  \n",
       "</tr>\n",
       "<tr>\n",
       "  <td>Dependent Variable:</td>       <td>Sales</td>             <td>AIC:</td>         <td>980.7739</td> \n",
       "</tr>\n",
       "<tr>\n",
       "         <td>Date:</td>        <td>2020-08-12 13:21</td>        <td>BIC:</td>         <td>1002.1676</td>\n",
       "</tr>\n",
       "<tr>\n",
       "   <td>No. Observations:</td>         <td>157</td>         <td>Log-Likelihood:</td>    <td>-483.39</td> \n",
       "</tr>\n",
       "<tr>\n",
       "       <td>Df Model:</td>              <td>6</td>           <td>F-statistic:</td>      <td>0.2194</td>  \n",
       "</tr>\n",
       "<tr>\n",
       "     <td>Df Residuals:</td>           <td>150</td>       <td>Prob (F-statistic):</td>   <td>0.970</td>  \n",
       "</tr>\n",
       "<tr>\n",
       "      <td>R-squared:</td>            <td>0.009</td>            <td>Scale:</td>         <td>28.949</td>  \n",
       "</tr>\n",
       "</table>\n",
       "<table class=\"simpletable\">\n",
       "<tr>\n",
       "        <td></td>        <th>Coef.</th>  <th>Std.Err.</th>    <th>t</th>     <th>P>|t|</th> <th>[0.025</th>  <th>0.975]</th> \n",
       "</tr>\n",
       "<tr>\n",
       "  <th>const</th>        <td>10.6906</td>  <td>1.6675</td>  <td>6.4112</td>  <td>0.0000</td> <td>7.3958</td>  <td>13.9854</td>\n",
       "</tr>\n",
       "<tr>\n",
       "  <th>Sno</th>          <td>0.0016</td>   <td>0.0076</td>  <td>0.2160</td>  <td>0.8293</td> <td>-0.0134</td> <td>0.0167</td> \n",
       "</tr>\n",
       "<tr>\n",
       "  <th>TV</th>           <td>0.0039</td>   <td>0.0069</td>  <td>0.5642</td>  <td>0.5735</td> <td>-0.0097</td> <td>0.0175</td> \n",
       "</tr>\n",
       "<tr>\n",
       "  <th>Radio</th>        <td>-0.0038</td>  <td>0.0325</td>  <td>-0.1174</td> <td>0.9067</td> <td>-0.0681</td> <td>0.0605</td> \n",
       "</tr>\n",
       "<tr>\n",
       "  <th>Newspaper</th>    <td>0.0017</td>   <td>0.0217</td>  <td>0.0785</td>  <td>0.9376</td> <td>-0.0411</td> <td>0.0445</td> \n",
       "</tr>\n",
       "<tr>\n",
       "  <th>Day_Holiday</th>  <td>4.5585</td>   <td>2.9870</td>  <td>1.5261</td>  <td>0.1291</td> <td>-1.3435</td> <td>10.4605</td>\n",
       "</tr>\n",
       "<tr>\n",
       "  <th>Day_Weekdays</th> <td>2.9251</td>   <td>1.1724</td>  <td>2.4950</td>  <td>0.0137</td> <td>0.6085</td>  <td>5.2417</td> \n",
       "</tr>\n",
       "<tr>\n",
       "  <th>Day_Weekend</th>  <td>3.2071</td>   <td>1.4295</td>  <td>2.2435</td>  <td>0.0263</td> <td>0.3826</td>  <td>6.0316</td> \n",
       "</tr>\n",
       "</table>\n",
       "<table class=\"simpletable\">\n",
       "<tr>\n",
       "     <td>Omnibus:</td>    <td>9.524</td>  <td>Durbin-Watson:</td>          <td>1.874</td>       \n",
       "</tr>\n",
       "<tr>\n",
       "  <td>Prob(Omnibus):</td> <td>0.009</td> <td>Jarque-Bera (JB):</td>        <td>8.170</td>       \n",
       "</tr>\n",
       "<tr>\n",
       "       <td>Skew:</td>     <td>0.475</td>     <td>Prob(JB):</td>            <td>0.017</td>       \n",
       "</tr>\n",
       "<tr>\n",
       "     <td>Kurtosis:</td>   <td>2.413</td>  <td>Condition No.:</td>   <td>1100954417021581184</td>\n",
       "</tr>\n",
       "</table>"
      ],
      "text/plain": [
       "<class 'statsmodels.iolib.summary2.Summary'>\n",
       "\"\"\"\n",
       "                 Results: Ordinary least squares\n",
       "==================================================================\n",
       "Model:              OLS              Adj. R-squared:     -0.031   \n",
       "Dependent Variable: Sales            AIC:                980.7739 \n",
       "Date:               2020-08-12 13:21 BIC:                1002.1676\n",
       "No. Observations:   157              Log-Likelihood:     -483.39  \n",
       "Df Model:           6                F-statistic:        0.2194   \n",
       "Df Residuals:       150              Prob (F-statistic): 0.970    \n",
       "R-squared:          0.009            Scale:              28.949   \n",
       "-------------------------------------------------------------------\n",
       "                Coef.   Std.Err.     t     P>|t|    [0.025   0.975]\n",
       "-------------------------------------------------------------------\n",
       "const          10.6906    1.6675   6.4112  0.0000   7.3958  13.9854\n",
       "Sno             0.0016    0.0076   0.2160  0.8293  -0.0134   0.0167\n",
       "TV              0.0039    0.0069   0.5642  0.5735  -0.0097   0.0175\n",
       "Radio          -0.0038    0.0325  -0.1174  0.9067  -0.0681   0.0605\n",
       "Newspaper       0.0017    0.0217   0.0785  0.9376  -0.0411   0.0445\n",
       "Day_Holiday     4.5585    2.9870   1.5261  0.1291  -1.3435  10.4605\n",
       "Day_Weekdays    2.9251    1.1724   2.4950  0.0137   0.6085   5.2417\n",
       "Day_Weekend     3.2071    1.4295   2.2435  0.0263   0.3826   6.0316\n",
       "------------------------------------------------------------------\n",
       "Omnibus:           9.524   Durbin-Watson:      1.874              \n",
       "Prob(Omnibus):     0.009   Jarque-Bera (JB):   8.170              \n",
       "Skew:              0.475   Prob(JB):           0.017              \n",
       "Kurtosis:          2.413   Condition No.:      1100954417021581184\n",
       "==================================================================\n",
       "* The condition number is large (1e+18). This might indicate\n",
       "strong multicollinearity or other numerical problems.\n",
       "\"\"\""
      ]
     },
     "execution_count": 28,
     "metadata": {},
     "output_type": "execute_result"
    }
   ],
   "source": [
    "#Model fitting and understanding the summary of the model\n",
    "\n",
    "model_1 = sm.OLS(train_y, train_X).fit()\n",
    "model_1.summary2()"
   ]
  },
  {
   "cell_type": "code",
   "execution_count": 30,
   "metadata": {},
   "outputs": [],
   "source": [
    "# Multicollinearity Test\n",
    "\n",
    "#creating VIF calculations\n",
    "\n",
    "from statsmodels.stats.outliers_influence import variance_inflation_factor\n",
    "def get_vif_factors( X ):\n",
    "    X_matrix = X.to_numpy()\n",
    "    vif = [ variance_inflation_factor( X_matrix, i ) for i in range( X_matrix.shape[1] ) ]\n",
    "    vif_factors = pd.DataFrame()\n",
    "    vif_factors['column'] = X.columns\n",
    "    vif_factors['vif'] = vif\n",
    "    return vif_factors"
   ]
  },
  {
   "cell_type": "code",
   "execution_count": 31,
   "metadata": {},
   "outputs": [
    {
     "data": {
      "text/html": [
       "<div>\n",
       "<style scoped>\n",
       "    .dataframe tbody tr th:only-of-type {\n",
       "        vertical-align: middle;\n",
       "    }\n",
       "\n",
       "    .dataframe tbody tr th {\n",
       "        vertical-align: top;\n",
       "    }\n",
       "\n",
       "    .dataframe thead th {\n",
       "        text-align: right;\n",
       "    }\n",
       "</style>\n",
       "<table border=\"1\" class=\"dataframe\">\n",
       "  <thead>\n",
       "    <tr style=\"text-align: right;\">\n",
       "      <th></th>\n",
       "      <th>column</th>\n",
       "      <th>vif</th>\n",
       "    </tr>\n",
       "  </thead>\n",
       "  <tbody>\n",
       "    <tr>\n",
       "      <th>0</th>\n",
       "      <td>Sno</td>\n",
       "      <td>1.044105</td>\n",
       "    </tr>\n",
       "    <tr>\n",
       "      <th>1</th>\n",
       "      <td>TV</td>\n",
       "      <td>1.981276</td>\n",
       "    </tr>\n",
       "    <tr>\n",
       "      <th>2</th>\n",
       "      <td>Radio</td>\n",
       "      <td>1.159367</td>\n",
       "    </tr>\n",
       "    <tr>\n",
       "      <th>3</th>\n",
       "      <td>Newspaper</td>\n",
       "      <td>1.187723</td>\n",
       "    </tr>\n",
       "    <tr>\n",
       "      <th>4</th>\n",
       "      <td>Day_Holiday</td>\n",
       "      <td>1.616170</td>\n",
       "    </tr>\n",
       "    <tr>\n",
       "      <th>5</th>\n",
       "      <td>Day_Weekdays</td>\n",
       "      <td>8.979078</td>\n",
       "    </tr>\n",
       "    <tr>\n",
       "      <th>6</th>\n",
       "      <td>Day_Weekend</td>\n",
       "      <td>6.191954</td>\n",
       "    </tr>\n",
       "  </tbody>\n",
       "</table>\n",
       "</div>"
      ],
      "text/plain": [
       "         column       vif\n",
       "0           Sno  1.044105\n",
       "1            TV  1.981276\n",
       "2         Radio  1.159367\n",
       "3     Newspaper  1.187723\n",
       "4   Day_Holiday  1.616170\n",
       "5  Day_Weekdays  8.979078\n",
       "6   Day_Weekend  6.191954"
      ]
     },
     "execution_count": 31,
     "metadata": {},
     "output_type": "execute_result"
    }
   ],
   "source": [
    "#Calculating VIF for list of columns\n",
    "\n",
    "vif_factors = get_vif_factors( X[autos_encoded.columns] )\n",
    "vif_factors"
   ]
  },
  {
   "cell_type": "code",
   "execution_count": 33,
   "metadata": {},
   "outputs": [],
   "source": [
    "#Removing columns with VIF > 4\n",
    "\n",
    "columns_with_large_vif = vif_factors[vif_factors.vif > 4].column"
   ]
  },
  {
   "cell_type": "code",
   "execution_count": 54,
   "metadata": {},
   "outputs": [
    {
     "name": "stdout",
     "output_type": "stream",
     "text": [
      "5    Day_Weekdays\n",
      "6     Day_Weekend\n",
      "Name: column, dtype: object\n"
     ]
    }
   ],
   "source": [
    "print(columns_with_large_vif)"
   ]
  },
  {
   "cell_type": "code",
   "execution_count": 61,
   "metadata": {},
   "outputs": [],
   "source": [
    "#Choosing Day_Weekdays column as it is redundant\n",
    "\n",
    "columns_to_be_removed = ['Day_Weekdays','Day_Weekend']"
   ]
  },
  {
   "cell_type": "code",
   "execution_count": 62,
   "metadata": {},
   "outputs": [],
   "source": [
    "#Removing Day_Weekday column as it is redundant\n",
    "\n",
    "X_new_features = list( set(autos_encoded) - set(columns_to_be_removed) )"
   ]
  },
  {
   "cell_type": "code",
   "execution_count": 63,
   "metadata": {},
   "outputs": [
    {
     "name": "stdout",
     "output_type": "stream",
     "text": [
      "['Day_Holiday', 'Radio', 'TV', 'Newspaper', 'Sno']\n"
     ]
    }
   ],
   "source": [
    "print(X_new_features)"
   ]
  },
  {
   "cell_type": "code",
   "execution_count": 86,
   "metadata": {},
   "outputs": [
    {
     "data": {
      "text/html": [
       "<table class=\"simpletable\">\n",
       "<tr>\n",
       "          <td>Model:</td>                 <td>OLS</td>       <td>Adj. R-squared (uncentered):</td>   <td>0.808</td>  \n",
       "</tr>\n",
       "<tr>\n",
       "    <td>Dependent Variable:</td>         <td>Sales</td>                  <td>AIC:</td>             <td>1048.1709</td>\n",
       "</tr>\n",
       "<tr>\n",
       "           <td>Date:</td>          <td>2020-08-12 13:58</td>             <td>BIC:</td>             <td>1063.4521</td>\n",
       "</tr>\n",
       "<tr>\n",
       "     <td>No. Observations:</td>           <td>157</td>              <td>Log-Likelihood:</td>        <td>-519.09</td> \n",
       "</tr>\n",
       "<tr>\n",
       "         <td>Df Model:</td>                <td>5</td>                <td>F-statistic:</td>           <td>133.0</td>  \n",
       "</tr>\n",
       "<tr>\n",
       "       <td>Df Residuals:</td>             <td>152</td>            <td>Prob (F-statistic):</td>     <td>1.14e-53</td> \n",
       "</tr>\n",
       "<tr>\n",
       "  <td>R-squared (uncentered):</td>       <td>0.814</td>                 <td>Scale:</td>             <td>45.017</td>  \n",
       "</tr>\n",
       "</table>\n",
       "<table class=\"simpletable\">\n",
       "<tr>\n",
       "       <td></td>        <th>Coef.</th> <th>Std.Err.</th>    <th>t</th>    <th>P>|t|</th> <th>[0.025</th>  <th>0.975]</th> \n",
       "</tr>\n",
       "<tr>\n",
       "  <th>Day_Holiday</th> <td>1.9327</td>  <td>4.9018</td>  <td>0.3943</td> <td>0.6939</td> <td>-7.7518</td> <td>11.6172</td>\n",
       "</tr>\n",
       "<tr>\n",
       "  <th>Radio</th>       <td>0.1248</td>  <td>0.0364</td>  <td>3.4319</td> <td>0.0008</td> <td>0.0529</td>  <td>0.1966</td> \n",
       "</tr>\n",
       "<tr>\n",
       "  <th>TV</th>          <td>0.0262</td>  <td>0.0055</td>  <td>4.7272</td> <td>0.0000</td> <td>0.0153</td>  <td>0.0372</td> \n",
       "</tr>\n",
       "<tr>\n",
       "  <th>Newspaper</th>   <td>0.0639</td>  <td>0.0256</td>  <td>2.4960</td> <td>0.0136</td> <td>0.0133</td>  <td>0.1145</td> \n",
       "</tr>\n",
       "<tr>\n",
       "  <th>Sno</th>         <td>0.0463</td>  <td>0.0074</td>  <td>6.2771</td> <td>0.0000</td> <td>0.0317</td>  <td>0.0608</td> \n",
       "</tr>\n",
       "</table>\n",
       "<table class=\"simpletable\">\n",
       "<tr>\n",
       "     <td>Omnibus:</td>    <td>6.823</td>  <td>Durbin-Watson:</td>   <td>1.904</td>\n",
       "</tr>\n",
       "<tr>\n",
       "  <td>Prob(Omnibus):</td> <td>0.033</td> <td>Jarque-Bera (JB):</td> <td>6.740</td>\n",
       "</tr>\n",
       "<tr>\n",
       "       <td>Skew:</td>     <td>0.506</td>     <td>Prob(JB):</td>     <td>0.034</td>\n",
       "</tr>\n",
       "<tr>\n",
       "     <td>Kurtosis:</td>   <td>3.082</td>  <td>Condition No.:</td>   <td>1766</td> \n",
       "</tr>\n",
       "</table>"
      ],
      "text/plain": [
       "<class 'statsmodels.iolib.summary2.Summary'>\n",
       "\"\"\"\n",
       "                        Results: Ordinary least squares\n",
       "===============================================================================\n",
       "Model:                  OLS              Adj. R-squared (uncentered): 0.808    \n",
       "Dependent Variable:     Sales            AIC:                         1048.1709\n",
       "Date:                   2020-08-12 13:58 BIC:                         1063.4521\n",
       "No. Observations:       157              Log-Likelihood:              -519.09  \n",
       "Df Model:               5                F-statistic:                 133.0    \n",
       "Df Residuals:           152              Prob (F-statistic):          1.14e-53 \n",
       "R-squared (uncentered): 0.814            Scale:                       45.017   \n",
       "-----------------------------------------------------------------------------------\n",
       "                  Coef.      Std.Err.       t        P>|t|       [0.025      0.975]\n",
       "-----------------------------------------------------------------------------------\n",
       "Day_Holiday       1.9327       4.9018     0.3943     0.6939     -7.7518     11.6172\n",
       "Radio             0.1248       0.0364     3.4319     0.0008      0.0529      0.1966\n",
       "TV                0.0262       0.0055     4.7272     0.0000      0.0153      0.0372\n",
       "Newspaper         0.0639       0.0256     2.4960     0.0136      0.0133      0.1145\n",
       "Sno               0.0463       0.0074     6.2771     0.0000      0.0317      0.0608\n",
       "-------------------------------------------------------------------------------\n",
       "Omnibus:                    6.823            Durbin-Watson:               1.904\n",
       "Prob(Omnibus):              0.033            Jarque-Bera (JB):            6.740\n",
       "Skew:                       0.506            Prob(JB):                    0.034\n",
       "Kurtosis:                   3.082            Condition No.:               1766 \n",
       "===============================================================================\n",
       "* The condition number is large (2e+03). This might indicate             strong\n",
       "multicollinearity or other numerical problems.\n",
       "\"\"\""
      ]
     },
     "execution_count": 86,
     "metadata": {},
     "output_type": "execute_result"
    }
   ],
   "source": [
    "# Model after eliminating multicollinearity\n",
    "#Model fitting after VIF and removing redundant variable\n",
    "\n",
    "train_X = train_X[X_new_features]\n",
    "autos_model_3 = sm.OLS(train_y, train_X).fit()\n",
    "autos_model_3.summary2()\n"
   ]
  },
  {
   "cell_type": "code",
   "execution_count": 65,
   "metadata": {},
   "outputs": [],
   "source": [
    "# Residual analysis\n",
    "# PP Plot for checking normality assumption of residuals\n",
    "\n",
    "import matplotlib.pyplot as plt\n",
    "import seaborn as sn\n",
    "%matplotlib inline\n",
    "def draw_pp_plot( model, title ):\n",
    "    probplot = sm.ProbPlot( model.resid );\n",
    "    plt.figure( figsize = (8, 6) );\n",
    "    probplot.ppplot( line='45' );\n",
    "    plt.title( title );\n",
    "    plt.show();\n",
    "    "
   ]
  },
  {
   "cell_type": "code",
   "execution_count": 66,
   "metadata": {},
   "outputs": [
    {
     "data": {
      "text/plain": [
       "<Figure size 576x432 with 0 Axes>"
      ]
     },
     "metadata": {},
     "output_type": "display_data"
    },
    {
     "data": {
      "image/png": "[encoded data removed]",
      "text/plain": [
       "<Figure size 432x288 with 1 Axes>"
      ]
     },
     "metadata": {
      "needs_background": "light"
     },
     "output_type": "display_data"
    }
   ],
   "source": [
    "#Plotting graph for PP plot\n",
    "\n",
    "draw_pp_plot( autos_model_2, \"Normal P-P Plot of Regression Standardized Residuals\");"
   ]
  },
  {
   "cell_type": "code",
   "execution_count": 78,
   "metadata": {},
   "outputs": [
    {
     "data": {
      "image/png": "[encoded data removed]",
      "text/plain": [
       "<Figure size 432x288 with 1 Axes>"
      ]
     },
     "metadata": {
      "needs_background": "light"
     },
     "output_type": "display_data"
    }
   ],
   "source": [
    "#We can see that sales is most in Weekend followed by weekdays and holiday\n",
    "\n",
    "sn.barplot(x = 'Day', y = 'Sales', data = autos); "
   ]
  },
  {
   "cell_type": "code",
   "execution_count": 67,
   "metadata": {},
   "outputs": [
    {
     "name": "stdout",
     "output_type": "stream",
     "text": [
      "Number of variables: 5  and number of observations: 157\n"
     ]
    }
   ],
   "source": [
    "k = train_X.shape[1]\n",
    "n = train_X.shape[0]\n",
    "\n",
    "print( \"Number of variables:\", k, \" and number of observations:\", n)"
   ]
  },
  {
   "cell_type": "code",
   "execution_count": 68,
   "metadata": {},
   "outputs": [
    {
     "name": "stdout",
     "output_type": "stream",
     "text": [
      "Number of variables: 5  and number of observations: 157\n",
      "Cutoff for leverage value:  0.115\n"
     ]
    }
   ],
   "source": [
    "k = train_X.shape[1]\n",
    "n = train_X.shape[0]\n",
    "print( \"Number of variables:\", k, \" and number of observations:\", n)\n",
    "leverage_cutoff = 3*((k + 1)/n)\n",
    "print( \"Cutoff for leverage value: \", round(leverage_cutoff, 3) )"
   ]
  },
  {
   "cell_type": "code",
   "execution_count": 70,
   "metadata": {},
   "outputs": [
    {
     "data": {
      "image/png": "[encoded data removed]",
      "text/plain": [
       "<Figure size 576x432 with 1 Axes>"
      ]
     },
     "metadata": {
      "needs_background": "light"
     },
     "output_type": "display_data"
    }
   ],
   "source": [
    "from statsmodels.graphics.regressionplots import influence_plot\n",
    "fig, ax = plt.subplots( figsize=(8,6) )\n",
    "influence_plot( autos_model_2, ax = ax )\n",
    "plt.title( \"Figure 4.7 - Leverage Value Vs Residuals\")\n",
    "plt.show()"
   ]
  },
  {
   "cell_type": "code",
   "execution_count": 71,
   "metadata": {},
   "outputs": [
    {
     "data": {
      "text/html": [
       "<div>\n",
       "<style scoped>\n",
       "    .dataframe tbody tr th:only-of-type {\n",
       "        vertical-align: middle;\n",
       "    }\n",
       "\n",
       "    .dataframe tbody tr th {\n",
       "        vertical-align: top;\n",
       "    }\n",
       "\n",
       "    .dataframe thead th {\n",
       "        text-align: right;\n",
       "    }\n",
       "</style>\n",
       "<table border=\"1\" class=\"dataframe\">\n",
       "  <thead>\n",
       "    <tr style=\"text-align: right;\">\n",
       "      <th></th>\n",
       "      <th>Sno</th>\n",
       "      <th>TV</th>\n",
       "      <th>Radio</th>\n",
       "      <th>Newspaper</th>\n",
       "      <th>Day</th>\n",
       "      <th>Sales</th>\n",
       "    </tr>\n",
       "  </thead>\n",
       "  <tbody>\n",
       "    <tr>\n",
       "      <th>130</th>\n",
       "      <td>131</td>\n",
       "      <td>0.7</td>\n",
       "      <td>39.6</td>\n",
       "      <td>8.7</td>\n",
       "      <td>Weekdays</td>\n",
       "      <td>13.4</td>\n",
       "    </tr>\n",
       "    <tr>\n",
       "      <th>131</th>\n",
       "      <td>132</td>\n",
       "      <td>265.2</td>\n",
       "      <td>2.9</td>\n",
       "      <td>43.0</td>\n",
       "      <td>Holiday</td>\n",
       "      <td>24.4</td>\n",
       "    </tr>\n",
       "    <tr>\n",
       "      <th>165</th>\n",
       "      <td>166</td>\n",
       "      <td>234.5</td>\n",
       "      <td>3.4</td>\n",
       "      <td>84.8</td>\n",
       "      <td>Weekend</td>\n",
       "      <td>25.4</td>\n",
       "    </tr>\n",
       "  </tbody>\n",
       "</table>\n",
       "</div>"
      ],
      "text/plain": [
       "     Sno     TV  Radio  Newspaper       Day  Sales\n",
       "130  131    0.7   39.6        8.7  Weekdays   13.4\n",
       "131  132  265.2    2.9       43.0   Holiday   24.4\n",
       "165  166  234.5    3.4       84.8   Weekend   25.4"
      ]
     },
     "execution_count": 71,
     "metadata": {},
     "output_type": "execute_result"
    }
   ],
   "source": [
    "autos[autos.index.isin( [131, 130, 165] )]"
   ]
  },
  {
   "cell_type": "code",
   "execution_count": null,
   "metadata": {},
   "outputs": [],
   "source": [
    "train_X_new = train_X.drop( [131, 165, 198], axis = 0)\n",
    "train_y_new = train_y.drop( [131, 165, 198], axis = 0)"
   ]
  },
  {
   "cell_type": "code",
   "execution_count": 72,
   "metadata": {},
   "outputs": [],
   "source": [
    "import numpy as np\n",
    "train_y = np.sqrt( train_y )"
   ]
  },
  {
   "cell_type": "code",
   "execution_count": 74,
   "metadata": {},
   "outputs": [
    {
     "data": {
      "text/plain": [
       "<Figure size 576x432 with 0 Axes>"
      ]
     },
     "metadata": {},
     "output_type": "display_data"
    },
    {
     "data": {
      "image/png": "[encoded data removed]",
      "text/plain": [
       "<Figure size 432x288 with 1 Axes>"
      ]
     },
     "metadata": {
      "needs_background": "light"
     },
     "output_type": "display_data"
    }
   ],
   "source": [
    "draw_pp_plot( autos_model_3,\"Normal P-P Plot of Regression Standardized Residuals\");"
   ]
  },
  {
   "cell_type": "code",
   "execution_count": 76,
   "metadata": {},
   "outputs": [],
   "source": [
    "pred_y = np.power(autos_model_3.predict( test_X[train_X.columns] ), 2)"
   ]
  },
  {
   "cell_type": "code",
   "execution_count": 80,
   "metadata": {},
   "outputs": [
    {
     "data": {
      "text/html": [
       "<div>\n",
       "<style scoped>\n",
       "    .dataframe tbody tr th:only-of-type {\n",
       "        vertical-align: middle;\n",
       "    }\n",
       "\n",
       "    .dataframe tbody tr th {\n",
       "        vertical-align: top;\n",
       "    }\n",
       "\n",
       "    .dataframe thead th {\n",
       "        text-align: right;\n",
       "    }\n",
       "</style>\n",
       "<table border=\"1\" class=\"dataframe\">\n",
       "  <thead>\n",
       "    <tr style=\"text-align: right;\">\n",
       "      <th></th>\n",
       "      <th>Sno</th>\n",
       "      <th>TV</th>\n",
       "      <th>Radio</th>\n",
       "      <th>Newspaper</th>\n",
       "      <th>Day_Holiday</th>\n",
       "      <th>Day_Weekdays</th>\n",
       "      <th>Day_Weekend</th>\n",
       "    </tr>\n",
       "  </thead>\n",
       "  <tbody>\n",
       "    <tr>\n",
       "      <th>Sno</th>\n",
       "      <td>1.000000</td>\n",
       "      <td>0.023044</td>\n",
       "      <td>-0.102923</td>\n",
       "      <td>-0.143636</td>\n",
       "      <td>0.122627</td>\n",
       "      <td>-0.013673</td>\n",
       "      <td>-0.028105</td>\n",
       "    </tr>\n",
       "    <tr>\n",
       "      <th>TV</th>\n",
       "      <td>0.023044</td>\n",
       "      <td>1.000000</td>\n",
       "      <td>0.055658</td>\n",
       "      <td>0.095794</td>\n",
       "      <td>0.182032</td>\n",
       "      <td>-0.701157</td>\n",
       "      <td>0.661571</td>\n",
       "    </tr>\n",
       "    <tr>\n",
       "      <th>Radio</th>\n",
       "      <td>-0.102923</td>\n",
       "      <td>0.055658</td>\n",
       "      <td>1.000000</td>\n",
       "      <td>0.356668</td>\n",
       "      <td>0.008924</td>\n",
       "      <td>0.001294</td>\n",
       "      <td>-0.004410</td>\n",
       "    </tr>\n",
       "    <tr>\n",
       "      <th>Newspaper</th>\n",
       "      <td>-0.143636</td>\n",
       "      <td>0.095794</td>\n",
       "      <td>0.356668</td>\n",
       "      <td>1.000000</td>\n",
       "      <td>0.081890</td>\n",
       "      <td>-0.121552</td>\n",
       "      <td>0.097357</td>\n",
       "    </tr>\n",
       "    <tr>\n",
       "      <th>Day_Holiday</th>\n",
       "      <td>0.122627</td>\n",
       "      <td>0.182032</td>\n",
       "      <td>0.008924</td>\n",
       "      <td>0.081890</td>\n",
       "      <td>1.000000</td>\n",
       "      <td>-0.260832</td>\n",
       "      <td>-0.074939</td>\n",
       "    </tr>\n",
       "    <tr>\n",
       "      <th>Day_Weekdays</th>\n",
       "      <td>-0.013673</td>\n",
       "      <td>-0.701157</td>\n",
       "      <td>0.001294</td>\n",
       "      <td>-0.121552</td>\n",
       "      <td>-0.260832</td>\n",
       "      <td>1.000000</td>\n",
       "      <td>-0.943123</td>\n",
       "    </tr>\n",
       "    <tr>\n",
       "      <th>Day_Weekend</th>\n",
       "      <td>-0.028105</td>\n",
       "      <td>0.661571</td>\n",
       "      <td>-0.004410</td>\n",
       "      <td>0.097357</td>\n",
       "      <td>-0.074939</td>\n",
       "      <td>-0.943123</td>\n",
       "      <td>1.000000</td>\n",
       "    </tr>\n",
       "  </tbody>\n",
       "</table>\n",
       "</div>"
      ],
      "text/plain": [
       "                   Sno        TV     Radio  Newspaper  Day_Holiday  \\\n",
       "Sno           1.000000  0.023044 -0.102923  -0.143636     0.122627   \n",
       "TV            0.023044  1.000000  0.055658   0.095794     0.182032   \n",
       "Radio        -0.102923  0.055658  1.000000   0.356668     0.008924   \n",
       "Newspaper    -0.143636  0.095794  0.356668   1.000000     0.081890   \n",
       "Day_Holiday   0.122627  0.182032  0.008924   0.081890     1.000000   \n",
       "Day_Weekdays -0.013673 -0.701157  0.001294  -0.121552    -0.260832   \n",
       "Day_Weekend  -0.028105  0.661571 -0.004410   0.097357    -0.074939   \n",
       "\n",
       "              Day_Weekdays  Day_Weekend  \n",
       "Sno              -0.013673    -0.028105  \n",
       "TV               -0.701157     0.661571  \n",
       "Radio             0.001294    -0.004410  \n",
       "Newspaper        -0.121552     0.097357  \n",
       "Day_Holiday      -0.260832    -0.074939  \n",
       "Day_Weekdays      1.000000    -0.943123  \n",
       "Day_Weekend      -0.943123     1.000000  "
      ]
     },
     "execution_count": 80,
     "metadata": {},
     "output_type": "execute_result"
    }
   ],
   "source": [
    "#Checking the correlation between different variables\n",
    "autos_encoded.corr()"
   ]
  },
  {
   "cell_type": "code",
   "execution_count": 77,
   "metadata": {},
   "outputs": [
    {
     "data": {
      "text/plain": [
       "12.675021055410195"
      ]
     },
     "execution_count": 77,
     "metadata": {},
     "output_type": "execute_result"
    }
   ],
   "source": [
    "#Checking the RMSE\n",
    "\n",
    "from sklearn import metrics\n",
    "np.sqrt(metrics.mean_squared_error(pred_y, test_y))"
   ]
  },
  {
   "cell_type": "code",
   "execution_count": null,
   "metadata": {},
   "outputs": [],
   "source": [
    "# Manual Calculation\n",
    "\n",
    "Y = B0 + B1*X1 + B2*x2 + B3*x3 + B4*x4 + B5*x5\n",
    "  = 10.6906 + (0.0039*283.6) - (0.0038*42) + (0.0017*66.2) + (0.0016*199) + (4.5585*0)\n",
    "  = 10.6906 + 1.10604 - 0.1596 + 0.11254 + 0.3184 + 0\n",
    "  = 12.06798"
   ]
  }
 ],
 "metadata": {
  "kernelspec": {
   "display_name": "Python 3",
   "language": "python",
   "name": "python3"
  },
  "language_info": {
   "codemirror_mode": {
    "name": "ipython",
    "version": 3
   },
   "file_extension": ".py",
   "mimetype": "text/x-python",
   "name": "python",
   "nbconvert_exporter": "python",
   "pygments_lexer": "ipython3",
   "version": "3.7.6"
  }
 },
 "nbformat": 4,
 "nbformat_minor": 4
}
